{
 "cells": [
  {
   "cell_type": "code",
   "execution_count": 32,
   "id": "ee4b07bb",
   "metadata": {},
   "outputs": [
    {
     "name": "stdout",
     "output_type": "stream",
     "text": [
      "Solution of Example 1 :  [0, 1]\n",
      "Solution of Example 2 :  [1, 2]\n",
      "Solution of Example 3 :  [0, 1]\n"
     ]
    }
   ],
   "source": [
    "#Answer of Question 1\n",
    "def twoSum(nums, target):\n",
    "        seen = {}\n",
    "        for i, v in enumerate(nums):\n",
    "            remaining = target - v\n",
    "            if remaining in seen:\n",
    "                return [seen[remaining], i]\n",
    "            seen[v] = i\n",
    "        return []\n",
    "# list = [2,7,11,15]\n",
    "# target = 9\n",
    "example1 = twoSum(nums = [2,7,11,15],target = 9)\n",
    "example2 = twoSum(nums = [3,2,4],target = 6)\n",
    "example3 = twoSum(nums = [3,3],target = 6)\n",
    "print(\"Solution of Example 1 : \",example1)\n",
    "print(\"Solution of Example 2 : \",example2)\n",
    "print(\"Solution of Example 3 : \",example3)"
   ]
  },
  {
   "cell_type": "code",
   "execution_count": null,
   "id": "521baf59",
   "metadata": {},
   "outputs": [],
   "source": [
    "#Answer of Question 2\n",
    "students_grade = []\n",
    "for _ in range(int(input())):\n",
    "        name = input()\n",
    "        score = float(input())\n",
    "        students_grade.append([name,score])\n",
    "        sorted_scores = sorted(list(set([x[1] for x in students_grade])))\n",
    "        second_lowest = sorted_scores[1]\n",
    "low_final_list=[]\n",
    "for student in students_grade:\n",
    "        if second_lowest == student[1]:\n",
    "            low_final_list.append(student[0])\n",
    "for student in sorted(low_final_list):\n",
    "        print(student)"
   ]
  },
  {
   "cell_type": "code",
   "execution_count": null,
   "id": "928a5143",
   "metadata": {},
   "outputs": [],
   "source": []
  },
  {
   "cell_type": "code",
   "execution_count": null,
   "id": "b9046b13",
   "metadata": {},
   "outputs": [],
   "source": []
  }
 ],
 "metadata": {
  "kernelspec": {
   "display_name": "Python 3 (ipykernel)",
   "language": "python",
   "name": "python3"
  },
  "language_info": {
   "codemirror_mode": {
    "name": "ipython",
    "version": 3
   },
   "file_extension": ".py",
   "mimetype": "text/x-python",
   "name": "python",
   "nbconvert_exporter": "python",
   "pygments_lexer": "ipython3",
   "version": "3.9.7"
  }
 },
 "nbformat": 4,
 "nbformat_minor": 5
}
